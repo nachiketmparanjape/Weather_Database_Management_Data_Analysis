{
 "cells": [
  {
   "cell_type": "code",
   "execution_count": 100,
   "metadata": {
    "collapsed": false
   },
   "outputs": [],
   "source": [
    "import datetime\n",
    "import sqlite3 as lite\n",
    "import requests\n",
    "import pandas as pd\n",
    "from collections import defaultdict\n",
    "\n",
    "end_date = datetime.datetime.now()\n",
    "start_date = end_date - datetime.timedelta(days=30)\n",
    "\n",
    "api_key = \"3c2c05f7bb4af88f75f72dfa3c9540ee\"\n",
    "url = 'https://api.forecast.io/forecast/' + api_key\n",
    "\n",
    "cities = { \"Atlanta\": '33.762909,-84.422675',\n",
    "            \"LV\": '36.229214,-115.26008',\n",
    "            \"SF\": '37.727239,-123.032229',\n",
    "            \"Buffalo\": '42.886448,-78.878372',\n",
    "            \"NYC\": '40.663619,-73.938589'\n",
    "        }"
   ]
  },
  {
   "cell_type": "code",
   "execution_count": 71,
   "metadata": {
    "collapsed": false
   },
   "outputs": [
    {
     "data": {
      "text/plain": [
       "'2016-06-23T12:00:00'"
      ]
     },
     "execution_count": 71,
     "metadata": {},
     "output_type": "execute_result"
    }
   ],
   "source": [
    "start_date.strftime('%Y-%m-%dT12:00:00')\n",
    "#start_date.strftime('%s')"
   ]
  },
  {
   "cell_type": "code",
   "execution_count": 72,
   "metadata": {
    "collapsed": false
   },
   "outputs": [],
   "source": [
    "con = lite.connect('weather.db')\n",
    "\n",
    "cur = con.cursor()"
   ]
  },
  {
   "cell_type": "code",
   "execution_count": 73,
   "metadata": {
    "collapsed": false
   },
   "outputs": [],
   "source": [
    "cities.keys()\n",
    "with con:\n",
    "    cur.execute('DROP TABLE IF EXISTS daily_temp')\n",
    "    cur.execute('CREATE TABLE daily_temp (day_of_reading INT, Atlanta REAL, LV REAL, SF REAL, Buffalo REAL, NYC REAL);')"
   ]
  },
  {
   "cell_type": "code",
   "execution_count": 74,
   "metadata": {
    "collapsed": false
   },
   "outputs": [],
   "source": [
    "query_date = start_date\n",
    "\n",
    "with con:\n",
    "    while query_date < end_date:\n",
    "        cur.execute('INSERT INTO daily_temp(day_of_reading) VALUES (?)', (int(query_date.strftime('%d')),))\n",
    "        query_date += datetime.timedelta(days=1)"
   ]
  },
  {
   "cell_type": "code",
   "execution_count": 75,
   "metadata": {
    "collapsed": false
   },
   "outputs": [
    {
     "data": {
      "text/plain": [
       "88.18"
      ]
     },
     "execution_count": 75,
     "metadata": {},
     "output_type": "execute_result"
    }
   ],
   "source": [
    "r = requests.get(url+'/42.886448,-78.878372'+','+query_date.strftime('%Y-%m-%dT12:00:00'))\n",
    "r.json()['daily']['data'][0]['temperatureMax']"
   ]
  },
  {
   "cell_type": "raw",
   "metadata": {},
   "source": []
  },
  {
   "cell_type": "code",
   "execution_count": 76,
   "metadata": {
    "collapsed": false
   },
   "outputs": [],
   "source": [
    "for k,v in cities.iteritems():\n",
    "    query_date = start_date\n",
    "    while query_date < end_date:\n",
    "        #API query\n",
    "        r = requests.get(url+'/'+v+','+query_date.strftime('%Y-%m-%dT12:00:00'))\n",
    "        max_temp = r.json()['daily']['data'][0]['temperatureMax']\n",
    "        \n",
    "        with con:\n",
    "            #insert the temperature max to the database\n",
    "            cur.execute('UPDATE daily_temp SET ' + k + ' = ' + str(max_temp) + ' WHERE day_of_reading = ' + query_date.strftime('%d'))\n",
    "            \n",
    "        query_date += datetime.timedelta(days=1)\n",
    "        \n",
    "con.close()"
   ]
  },
  {
   "cell_type": "code",
   "execution_count": 80,
   "metadata": {
    "collapsed": false
   },
   "outputs": [],
   "source": [
    "con = lite.connect('weather.db')\n",
    "cur = con.cursor()\n",
    "\n",
    "#Reading sql query and putting it in a dataframe\n",
    "df = pd.read_sql_query(\"SELECT * FROM daily_temp ORDER BY day_of_reading\",con,index_col='day_of_reading')"
   ]
  },
  {
   "cell_type": "code",
   "execution_count": 81,
   "metadata": {
    "collapsed": false
   },
   "outputs": [
    {
     "data": {
      "text/html": [
       "<div>\n",
       "<table border=\"1\" class=\"dataframe\">\n",
       "  <thead>\n",
       "    <tr style=\"text-align: right;\">\n",
       "      <th></th>\n",
       "      <th>Atlanta</th>\n",
       "      <th>LV</th>\n",
       "      <th>SF</th>\n",
       "      <th>Buffalo</th>\n",
       "      <th>NYC</th>\n",
       "    </tr>\n",
       "    <tr>\n",
       "      <th>day_of_reading</th>\n",
       "      <th></th>\n",
       "      <th></th>\n",
       "      <th></th>\n",
       "      <th></th>\n",
       "      <th></th>\n",
       "    </tr>\n",
       "  </thead>\n",
       "  <tbody>\n",
       "    <tr>\n",
       "      <th>1</th>\n",
       "      <td>93.65</td>\n",
       "      <td>95.91</td>\n",
       "      <td>53.76</td>\n",
       "      <td>72.69</td>\n",
       "      <td>77.23</td>\n",
       "    </tr>\n",
       "    <tr>\n",
       "      <th>2</th>\n",
       "      <td>96.21</td>\n",
       "      <td>94.56</td>\n",
       "      <td>55.00</td>\n",
       "      <td>71.03</td>\n",
       "      <td>78.48</td>\n",
       "    </tr>\n",
       "    <tr>\n",
       "      <th>3</th>\n",
       "      <td>96.66</td>\n",
       "      <td>102.60</td>\n",
       "      <td>54.76</td>\n",
       "      <td>76.03</td>\n",
       "      <td>79.57</td>\n",
       "    </tr>\n",
       "    <tr>\n",
       "      <th>4</th>\n",
       "      <td>94.27</td>\n",
       "      <td>104.99</td>\n",
       "      <td>55.38</td>\n",
       "      <td>81.15</td>\n",
       "      <td>79.91</td>\n",
       "    </tr>\n",
       "    <tr>\n",
       "      <th>5</th>\n",
       "      <td>85.16</td>\n",
       "      <td>104.19</td>\n",
       "      <td>54.76</td>\n",
       "      <td>76.37</td>\n",
       "      <td>89.00</td>\n",
       "    </tr>\n",
       "  </tbody>\n",
       "</table>\n",
       "</div>"
      ],
      "text/plain": [
       "                Atlanta      LV     SF  Buffalo    NYC\n",
       "day_of_reading                                        \n",
       "1                 93.65   95.91  53.76    72.69  77.23\n",
       "2                 96.21   94.56  55.00    71.03  78.48\n",
       "3                 96.66  102.60  54.76    76.03  79.57\n",
       "4                 94.27  104.99  55.38    81.15  79.91\n",
       "5                 85.16  104.19  54.76    76.37  89.00"
      ]
     },
     "execution_count": 81,
     "metadata": {},
     "output_type": "execute_result"
    }
   ],
   "source": [
    "df.head()"
   ]
  },
  {
   "cell_type": "code",
   "execution_count": 117,
   "metadata": {
    "collapsed": false
   },
   "outputs": [
    {
     "ename": "KeyError",
     "evalue": "'Atlanta'",
     "output_type": "error",
     "traceback": [
      "\u001b[1;31m---------------------------------------------------------------------------\u001b[0m",
      "\u001b[1;31mKeyError\u001b[0m                                  Traceback (most recent call last)",
      "\u001b[1;32m<ipython-input-117-ff9a61db46e3>\u001b[0m in \u001b[0;36m<module>\u001b[1;34m()\u001b[0m\n\u001b[0;32m      2\u001b[0m \u001b[1;32mfor\u001b[0m \u001b[0mi\u001b[0m \u001b[1;32min\u001b[0m \u001b[0mdf\u001b[0m\u001b[1;33m.\u001b[0m\u001b[0mcolumns\u001b[0m\u001b[1;33m:\u001b[0m\u001b[1;33m\u001b[0m\u001b[0m\n\u001b[0;32m      3\u001b[0m     \u001b[0mdifference\u001b[0m \u001b[1;33m=\u001b[0m \u001b[0mdf\u001b[0m\u001b[1;33m[\u001b[0m\u001b[0mi\u001b[0m\u001b[1;33m]\u001b[0m\u001b[1;33m.\u001b[0m\u001b[0mmax\u001b[0m\u001b[1;33m(\u001b[0m\u001b[1;33m)\u001b[0m \u001b[1;33m-\u001b[0m \u001b[0mdf\u001b[0m\u001b[1;33m[\u001b[0m\u001b[0mi\u001b[0m\u001b[1;33m]\u001b[0m\u001b[1;33m.\u001b[0m\u001b[0mmin\u001b[0m\u001b[1;33m(\u001b[0m\u001b[1;33m)\u001b[0m\u001b[1;33m\u001b[0m\u001b[0m\n\u001b[1;32m----> 4\u001b[1;33m     \u001b[0mmax_temp\u001b[0m\u001b[1;33m[\u001b[0m\u001b[0mstr\u001b[0m\u001b[1;33m(\u001b[0m\u001b[0mi\u001b[0m\u001b[1;33m)\u001b[0m\u001b[1;33m]\u001b[0m\u001b[1;33m.\u001b[0m\u001b[0mappend\u001b[0m\u001b[1;33m(\u001b[0m\u001b[0mdifference\u001b[0m\u001b[1;33m)\u001b[0m\u001b[1;33m\u001b[0m\u001b[0m\n\u001b[0m",
      "\u001b[1;31mKeyError\u001b[0m: 'Atlanta'"
     ]
    }
   ],
   "source": [
    "max_temp = defaultdict(keys=['Atlanta','LV','SF','Buffalo','NYC'])\n",
    "for i in df.columns:\n",
    "    difference = df[i].max() - df[i].min()\n",
    "    "
   ]
  },
  {
   "cell_type": "code",
   "execution_count": 96,
   "metadata": {
    "collapsed": false
   },
   "outputs": [
    {
     "name": "stdout",
     "output_type": "stream",
     "text": [
      "Atlanta\n",
      "LV\n",
      "SF\n",
      "Buffalo\n",
      "NYC\n"
     ]
    }
   ],
   "source": []
  }
 ],
 "metadata": {
  "kernelspec": {
   "display_name": "Python 2",
   "language": "python",
   "name": "python2"
  },
  "language_info": {
   "codemirror_mode": {
    "name": "ipython",
    "version": 2
   },
   "file_extension": ".py",
   "mimetype": "text/x-python",
   "name": "python",
   "nbconvert_exporter": "python",
   "pygments_lexer": "ipython2",
   "version": "2.7.11"
  }
 },
 "nbformat": 4,
 "nbformat_minor": 0
}
