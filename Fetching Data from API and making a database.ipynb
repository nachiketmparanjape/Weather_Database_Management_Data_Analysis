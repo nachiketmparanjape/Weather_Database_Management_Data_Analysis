{
 "cells": [
  {
   "cell_type": "code",
   "execution_count": 1,
   "metadata": {
    "collapsed": false
   },
   "outputs": [],
   "source": [
    "import datetime\n",
    "import sqlite3 as lite\n",
    "import requests\n",
    "import pandas as pd\n",
    "from collections import defaultdict\n",
    "\n",
    "end_date = datetime.datetime.now()\n",
    "start_date = end_date - datetime.timedelta(days=30)\n",
    "\n",
    "api_key = \"3c2c05f7bb4af88f75f72dfa3c9540ee\"\n",
    "url = 'https://api.forecast.io/forecast/' + api_key\n",
    "\n",
    "cities = { \"Atlanta\": '33.762909,-84.422675',\n",
    "            \"LV\": '36.229214,-115.26008',\n",
    "            \"SF\": '37.727239,-123.032229',\n",
    "            \"Buffalo\": '42.886448,-78.878372',\n",
    "            \"NYC\": '40.663619,-73.938589'\n",
    "        }"
   ]
  },
  {
   "cell_type": "code",
   "execution_count": 2,
   "metadata": {
    "collapsed": false
   },
   "outputs": [
    {
     "data": {
      "text/plain": [
       "'2016-06-27T12:00:00'"
      ]
     },
     "execution_count": 2,
     "metadata": {},
     "output_type": "execute_result"
    }
   ],
   "source": [
    "start_date.strftime('%Y-%m-%dT12:00:00')\n",
    "#start_date.strftime('%s')"
   ]
  },
  {
   "cell_type": "code",
   "execution_count": 3,
   "metadata": {
    "collapsed": false
   },
   "outputs": [],
   "source": [
    "con = lite.connect('weather.db')\n",
    "\n",
    "cur = con.cursor()"
   ]
  },
  {
   "cell_type": "code",
   "execution_count": 4,
   "metadata": {
    "collapsed": false
   },
   "outputs": [],
   "source": [
    "cities.keys()\n",
    "with con:\n",
    "    cur.execute('DROP TABLE IF EXISTS daily_temp')\n",
    "    cur.execute('CREATE TABLE daily_temp (day_of_reading INT, Atlanta REAL, LV REAL, SF REAL, Buffalo REAL, NYC REAL);')"
   ]
  },
  {
   "cell_type": "code",
   "execution_count": 5,
   "metadata": {
    "collapsed": false
   },
   "outputs": [],
   "source": [
    "query_date = start_date\n",
    "\n",
    "with con:\n",
    "    while query_date < end_date:\n",
    "        cur.execute('INSERT INTO daily_temp(day_of_reading) VALUES (?)', (int(query_date.strftime('%d')),))\n",
    "        query_date += datetime.timedelta(days=1)"
   ]
  },
  {
   "cell_type": "code",
   "execution_count": 6,
   "metadata": {
    "collapsed": false
   },
   "outputs": [
    {
     "data": {
      "text/plain": [
       "84.5"
      ]
     },
     "execution_count": 6,
     "metadata": {},
     "output_type": "execute_result"
    }
   ],
   "source": [
    "r = requests.get(url+'/42.886448,-78.878372'+','+query_date.strftime('%Y-%m-%dT12:00:00'))\n",
    "r.json()['daily']['data'][0]['temperatureMax']"
   ]
  },
  {
   "cell_type": "raw",
   "metadata": {},
   "source": []
  },
  {
   "cell_type": "code",
   "execution_count": 9,
   "metadata": {
    "collapsed": false
   },
   "outputs": [],
   "source": [
    "for k,v in cities.items():\n",
    "    query_date = start_date\n",
    "    while query_date < end_date:\n",
    "        #API query\n",
    "        r = requests.get(url+'/'+v+','+query_date.strftime('%Y-%m-%dT12:00:00'))\n",
    "        max_temp = r.json()['daily']['data'][0]['temperatureMax']\n",
    "        \n",
    "        with con:\n",
    "            #insert the temperature max to the database\n",
    "            cur.execute('UPDATE daily_temp SET ' + k + ' = ' + str(max_temp) + ' WHERE day_of_reading = ' + query_date.strftime('%d'))\n",
    "            \n",
    "        query_date += datetime.timedelta(days=1)\n",
    "        \n",
    "con.close()"
   ]
  },
  {
   "cell_type": "code",
   "execution_count": 10,
   "metadata": {
    "collapsed": false
   },
   "outputs": [],
   "source": [
    "con = lite.connect('weather.db')\n",
    "cur = con.cursor()\n",
    "\n",
    "#Reading sql query and putting it in a dataframe\n",
    "df = pd.read_sql_query(\"SELECT * FROM daily_temp ORDER BY day_of_reading\",con,index_col='day_of_reading')"
   ]
  },
  {
   "cell_type": "code",
   "execution_count": 11,
   "metadata": {
    "collapsed": false
   },
   "outputs": [
    {
     "data": {
      "text/html": [
       "<div>\n",
       "<table border=\"1\" class=\"dataframe\">\n",
       "  <thead>\n",
       "    <tr style=\"text-align: right;\">\n",
       "      <th></th>\n",
       "      <th>Atlanta</th>\n",
       "      <th>LV</th>\n",
       "      <th>SF</th>\n",
       "      <th>Buffalo</th>\n",
       "      <th>NYC</th>\n",
       "    </tr>\n",
       "    <tr>\n",
       "      <th>day_of_reading</th>\n",
       "      <th></th>\n",
       "      <th></th>\n",
       "      <th></th>\n",
       "      <th></th>\n",
       "      <th></th>\n",
       "    </tr>\n",
       "  </thead>\n",
       "  <tbody>\n",
       "    <tr>\n",
       "      <th>1</th>\n",
       "      <td>93.65</td>\n",
       "      <td>95.91</td>\n",
       "      <td>53.76</td>\n",
       "      <td>72.69</td>\n",
       "      <td>77.23</td>\n",
       "    </tr>\n",
       "    <tr>\n",
       "      <th>2</th>\n",
       "      <td>96.21</td>\n",
       "      <td>94.56</td>\n",
       "      <td>55.00</td>\n",
       "      <td>71.03</td>\n",
       "      <td>78.48</td>\n",
       "    </tr>\n",
       "    <tr>\n",
       "      <th>3</th>\n",
       "      <td>96.66</td>\n",
       "      <td>102.60</td>\n",
       "      <td>54.76</td>\n",
       "      <td>76.03</td>\n",
       "      <td>79.57</td>\n",
       "    </tr>\n",
       "    <tr>\n",
       "      <th>4</th>\n",
       "      <td>94.27</td>\n",
       "      <td>104.99</td>\n",
       "      <td>55.38</td>\n",
       "      <td>81.15</td>\n",
       "      <td>79.91</td>\n",
       "    </tr>\n",
       "    <tr>\n",
       "      <th>5</th>\n",
       "      <td>85.16</td>\n",
       "      <td>104.19</td>\n",
       "      <td>54.76</td>\n",
       "      <td>76.37</td>\n",
       "      <td>89.00</td>\n",
       "    </tr>\n",
       "  </tbody>\n",
       "</table>\n",
       "</div>"
      ],
      "text/plain": [
       "                Atlanta      LV     SF  Buffalo    NYC\n",
       "day_of_reading                                        \n",
       "1                 93.65   95.91  53.76    72.69  77.23\n",
       "2                 96.21   94.56  55.00    71.03  78.48\n",
       "3                 96.66  102.60  54.76    76.03  79.57\n",
       "4                 94.27  104.99  55.38    81.15  79.91\n",
       "5                 85.16  104.19  54.76    76.37  89.00"
      ]
     },
     "execution_count": 11,
     "metadata": {},
     "output_type": "execute_result"
    }
   ],
   "source": [
    "df.head()"
   ]
  },
  {
   "cell_type": "code",
   "execution_count": 17,
   "metadata": {
    "collapsed": false
   },
   "outputs": [],
   "source": [
    "temp_diff_df = pd.DataFrame()"
   ]
  },
  {
   "cell_type": "code",
   "execution_count": 39,
   "metadata": {
    "collapsed": false
   },
   "outputs": [
    {
     "name": "stdout",
     "output_type": "stream",
     "text": [
      "Maximum temperature difference for Atlanta in the recent month is 11.65 F.\n",
      "\n",
      "Maximum temperature difference for LV in the recent month is 13.72 F.\n",
      "\n",
      "Maximum temperature difference for SF in the recent month is 4.91 F.\n",
      "\n",
      "Maximum temperature difference for Buffalo in the recent month is 18.03 F.\n",
      "\n",
      "Maximum temperature difference for NYC in the recent month is 23.51 F.\n",
      "\n"
     ]
    }
   ],
   "source": [
    "city_list = []\n",
    "for i in df.columns:\n",
    "    city_list.append(i)\n",
    "for city in city_list:\n",
    "    temp_diff = df[city].max() - df[city].min()\n",
    "    print (\"Maximum temperature difference for \"+ city +\" in the recent month is \" + str(temp_diff)+\" F.\\n\")"
   ]
  },
  {
   "cell_type": "code",
   "execution_count": 31,
   "metadata": {
    "collapsed": false
   },
   "outputs": [
    {
     "data": {
      "text/html": [
       "<div>\n",
       "<table border=\"1\" class=\"dataframe\">\n",
       "  <thead>\n",
       "    <tr style=\"text-align: right;\">\n",
       "      <th></th>\n",
       "      <th>Atlanta</th>\n",
       "      <th>LV</th>\n",
       "      <th>SF</th>\n",
       "      <th>Buffalo</th>\n",
       "      <th>NYC</th>\n",
       "    </tr>\n",
       "  </thead>\n",
       "  <tbody>\n",
       "  </tbody>\n",
       "</table>\n",
       "</div>"
      ],
      "text/plain": [
       "Empty DataFrame\n",
       "Columns: [Atlanta, LV, SF, Buffalo, NYC]\n",
       "Index: []"
      ]
     },
     "execution_count": 31,
     "metadata": {},
     "output_type": "execute_result"
    }
   ],
   "source": [
    "temp_diff_df"
   ]
  },
  {
   "cell_type": "code",
   "execution_count": null,
   "metadata": {
    "collapsed": true
   },
   "outputs": [],
   "source": []
  },
  {
   "cell_type": "code",
   "execution_count": null,
   "metadata": {
    "collapsed": true
   },
   "outputs": [],
   "source": []
  },
  {
   "cell_type": "code",
   "execution_count": null,
   "metadata": {
    "collapsed": true
   },
   "outputs": [],
   "source": []
  }
 ],
 "metadata": {
  "kernelspec": {
   "display_name": "Python 3",
   "language": "python",
   "name": "python3"
  },
  "language_info": {
   "codemirror_mode": {
    "name": "ipython",
    "version": 3
   },
   "file_extension": ".py",
   "mimetype": "text/x-python",
   "name": "python",
   "nbconvert_exporter": "python",
   "pygments_lexer": "ipython3",
   "version": "3.5.2"
  }
 },
 "nbformat": 4,
 "nbformat_minor": 0
}
